{
 "cells": [
  {
   "cell_type": "code",
   "execution_count": 1,
   "id": "6e333655",
   "metadata": {},
   "outputs": [],
   "source": [
    "import pandas as pd\n",
    "import numpy as np\n",
    "import matplotlib.pyplot as plt\n",
    "import seaborn as sns\n",
    "#matplotlib inline"
   ]
  },
  {
   "cell_type": "code",
   "execution_count": 11,
   "id": "f121a270",
   "metadata": {},
   "outputs": [],
   "source": [
    "df=pd.read_csv('C:\\\\Users\\\\pc\\\\Documents\\\\Data_Science\\\\data\\\\Algerian_forest_cleaned.csv')"
   ]
  },
  {
   "cell_type": "code",
   "execution_count": 3,
   "id": "1614dd2e",
   "metadata": {},
   "outputs": [
    {
     "data": {
      "text/html": [
       "<div>\n",
       "<style scoped>\n",
       "    .dataframe tbody tr th:only-of-type {\n",
       "        vertical-align: middle;\n",
       "    }\n",
       "\n",
       "    .dataframe tbody tr th {\n",
       "        vertical-align: top;\n",
       "    }\n",
       "\n",
       "    .dataframe thead th {\n",
       "        text-align: right;\n",
       "    }\n",
       "</style>\n",
       "<table border=\"1\" class=\"dataframe\">\n",
       "  <thead>\n",
       "    <tr style=\"text-align: right;\">\n",
       "      <th></th>\n",
       "      <th>day</th>\n",
       "      <th>month</th>\n",
       "      <th>year</th>\n",
       "      <th>Temperature</th>\n",
       "      <th>RH</th>\n",
       "      <th>Ws</th>\n",
       "      <th>Rain</th>\n",
       "      <th>FFMC</th>\n",
       "      <th>DMC</th>\n",
       "      <th>DC</th>\n",
       "      <th>ISI</th>\n",
       "      <th>BUI</th>\n",
       "      <th>FWI</th>\n",
       "      <th>Classes</th>\n",
       "      <th>Region</th>\n",
       "    </tr>\n",
       "  </thead>\n",
       "  <tbody>\n",
       "    <tr>\n",
       "      <th>0</th>\n",
       "      <td>1</td>\n",
       "      <td>6</td>\n",
       "      <td>2012</td>\n",
       "      <td>29</td>\n",
       "      <td>57</td>\n",
       "      <td>18</td>\n",
       "      <td>0.0</td>\n",
       "      <td>65.7</td>\n",
       "      <td>3.4</td>\n",
       "      <td>7.6</td>\n",
       "      <td>1.3</td>\n",
       "      <td>3.4</td>\n",
       "      <td>0.5</td>\n",
       "      <td>not fire</td>\n",
       "      <td>0</td>\n",
       "    </tr>\n",
       "    <tr>\n",
       "      <th>1</th>\n",
       "      <td>2</td>\n",
       "      <td>6</td>\n",
       "      <td>2012</td>\n",
       "      <td>29</td>\n",
       "      <td>61</td>\n",
       "      <td>13</td>\n",
       "      <td>1.3</td>\n",
       "      <td>64.4</td>\n",
       "      <td>4.1</td>\n",
       "      <td>7.6</td>\n",
       "      <td>1.0</td>\n",
       "      <td>3.9</td>\n",
       "      <td>0.4</td>\n",
       "      <td>not fire</td>\n",
       "      <td>0</td>\n",
       "    </tr>\n",
       "    <tr>\n",
       "      <th>2</th>\n",
       "      <td>3</td>\n",
       "      <td>6</td>\n",
       "      <td>2012</td>\n",
       "      <td>26</td>\n",
       "      <td>82</td>\n",
       "      <td>22</td>\n",
       "      <td>13.1</td>\n",
       "      <td>47.1</td>\n",
       "      <td>2.5</td>\n",
       "      <td>7.1</td>\n",
       "      <td>0.3</td>\n",
       "      <td>2.7</td>\n",
       "      <td>0.1</td>\n",
       "      <td>not fire</td>\n",
       "      <td>0</td>\n",
       "    </tr>\n",
       "    <tr>\n",
       "      <th>3</th>\n",
       "      <td>4</td>\n",
       "      <td>6</td>\n",
       "      <td>2012</td>\n",
       "      <td>25</td>\n",
       "      <td>89</td>\n",
       "      <td>13</td>\n",
       "      <td>2.5</td>\n",
       "      <td>28.6</td>\n",
       "      <td>1.3</td>\n",
       "      <td>6.9</td>\n",
       "      <td>0.0</td>\n",
       "      <td>1.7</td>\n",
       "      <td>0.0</td>\n",
       "      <td>not fire</td>\n",
       "      <td>0</td>\n",
       "    </tr>\n",
       "    <tr>\n",
       "      <th>4</th>\n",
       "      <td>5</td>\n",
       "      <td>6</td>\n",
       "      <td>2012</td>\n",
       "      <td>27</td>\n",
       "      <td>77</td>\n",
       "      <td>16</td>\n",
       "      <td>0.0</td>\n",
       "      <td>64.8</td>\n",
       "      <td>3.0</td>\n",
       "      <td>14.2</td>\n",
       "      <td>1.2</td>\n",
       "      <td>3.9</td>\n",
       "      <td>0.5</td>\n",
       "      <td>not fire</td>\n",
       "      <td>0</td>\n",
       "    </tr>\n",
       "  </tbody>\n",
       "</table>\n",
       "</div>"
      ],
      "text/plain": [
       "   day  month  year  Temperature   RH   Ws  Rain   FFMC  DMC    DC  ISI  BUI  \\\n",
       "0    1      6  2012           29   57   18    0.0  65.7  3.4   7.6  1.3  3.4   \n",
       "1    2      6  2012           29   61   13    1.3  64.4  4.1   7.6  1.0  3.9   \n",
       "2    3      6  2012           26   82   22   13.1  47.1  2.5   7.1  0.3  2.7   \n",
       "3    4      6  2012           25   89   13    2.5  28.6  1.3   6.9  0.0  1.7   \n",
       "4    5      6  2012           27   77   16    0.0  64.8  3.0  14.2  1.2  3.9   \n",
       "\n",
       "   FWI     Classes   Region  \n",
       "0  0.5  not fire          0  \n",
       "1  0.4  not fire          0  \n",
       "2  0.1  not fire          0  \n",
       "3  0.0  not fire          0  \n",
       "4  0.5  not fire          0  "
      ]
     },
     "execution_count": 3,
     "metadata": {},
     "output_type": "execute_result"
    }
   ],
   "source": [
    "df.head()"
   ]
  },
  {
   "cell_type": "code",
   "execution_count": 4,
   "id": "f4e4bdfa",
   "metadata": {},
   "outputs": [
    {
     "data": {
      "text/plain": [
       "Index(['day', 'month', 'year', 'Temperature', ' RH', ' Ws', 'Rain ', 'FFMC',\n",
       "       'DMC', 'DC', 'ISI', 'BUI', 'FWI', 'Classes ', 'Region'],\n",
       "      dtype='object')"
      ]
     },
     "execution_count": 4,
     "metadata": {},
     "output_type": "execute_result"
    }
   ],
   "source": [
    "df.columns"
   ]
  },
  {
   "cell_type": "code",
   "execution_count": 13,
   "id": "de6f22d5",
   "metadata": {},
   "outputs": [],
   "source": [
    "df.drop(['day', 'month', 'year'],axis=1,inplace=True)"
   ]
  },
  {
   "cell_type": "code",
   "execution_count": 14,
   "id": "7ec5184b",
   "metadata": {},
   "outputs": [
    {
     "data": {
      "text/html": [
       "<div>\n",
       "<style scoped>\n",
       "    .dataframe tbody tr th:only-of-type {\n",
       "        vertical-align: middle;\n",
       "    }\n",
       "\n",
       "    .dataframe tbody tr th {\n",
       "        vertical-align: top;\n",
       "    }\n",
       "\n",
       "    .dataframe thead th {\n",
       "        text-align: right;\n",
       "    }\n",
       "</style>\n",
       "<table border=\"1\" class=\"dataframe\">\n",
       "  <thead>\n",
       "    <tr style=\"text-align: right;\">\n",
       "      <th></th>\n",
       "      <th>Temperature</th>\n",
       "      <th>RH</th>\n",
       "      <th>Ws</th>\n",
       "      <th>Rain</th>\n",
       "      <th>FFMC</th>\n",
       "      <th>DMC</th>\n",
       "      <th>DC</th>\n",
       "      <th>ISI</th>\n",
       "      <th>BUI</th>\n",
       "      <th>FWI</th>\n",
       "      <th>Classes</th>\n",
       "      <th>Region</th>\n",
       "    </tr>\n",
       "  </thead>\n",
       "  <tbody>\n",
       "    <tr>\n",
       "      <th>0</th>\n",
       "      <td>29</td>\n",
       "      <td>57</td>\n",
       "      <td>18</td>\n",
       "      <td>0.0</td>\n",
       "      <td>65.7</td>\n",
       "      <td>3.4</td>\n",
       "      <td>7.6</td>\n",
       "      <td>1.3</td>\n",
       "      <td>3.4</td>\n",
       "      <td>0.5</td>\n",
       "      <td>not fire</td>\n",
       "      <td>0</td>\n",
       "    </tr>\n",
       "    <tr>\n",
       "      <th>1</th>\n",
       "      <td>29</td>\n",
       "      <td>61</td>\n",
       "      <td>13</td>\n",
       "      <td>1.3</td>\n",
       "      <td>64.4</td>\n",
       "      <td>4.1</td>\n",
       "      <td>7.6</td>\n",
       "      <td>1.0</td>\n",
       "      <td>3.9</td>\n",
       "      <td>0.4</td>\n",
       "      <td>not fire</td>\n",
       "      <td>0</td>\n",
       "    </tr>\n",
       "    <tr>\n",
       "      <th>2</th>\n",
       "      <td>26</td>\n",
       "      <td>82</td>\n",
       "      <td>22</td>\n",
       "      <td>13.1</td>\n",
       "      <td>47.1</td>\n",
       "      <td>2.5</td>\n",
       "      <td>7.1</td>\n",
       "      <td>0.3</td>\n",
       "      <td>2.7</td>\n",
       "      <td>0.1</td>\n",
       "      <td>not fire</td>\n",
       "      <td>0</td>\n",
       "    </tr>\n",
       "    <tr>\n",
       "      <th>3</th>\n",
       "      <td>25</td>\n",
       "      <td>89</td>\n",
       "      <td>13</td>\n",
       "      <td>2.5</td>\n",
       "      <td>28.6</td>\n",
       "      <td>1.3</td>\n",
       "      <td>6.9</td>\n",
       "      <td>0.0</td>\n",
       "      <td>1.7</td>\n",
       "      <td>0.0</td>\n",
       "      <td>not fire</td>\n",
       "      <td>0</td>\n",
       "    </tr>\n",
       "    <tr>\n",
       "      <th>4</th>\n",
       "      <td>27</td>\n",
       "      <td>77</td>\n",
       "      <td>16</td>\n",
       "      <td>0.0</td>\n",
       "      <td>64.8</td>\n",
       "      <td>3.0</td>\n",
       "      <td>14.2</td>\n",
       "      <td>1.2</td>\n",
       "      <td>3.9</td>\n",
       "      <td>0.5</td>\n",
       "      <td>not fire</td>\n",
       "      <td>0</td>\n",
       "    </tr>\n",
       "    <tr>\n",
       "      <th>...</th>\n",
       "      <td>...</td>\n",
       "      <td>...</td>\n",
       "      <td>...</td>\n",
       "      <td>...</td>\n",
       "      <td>...</td>\n",
       "      <td>...</td>\n",
       "      <td>...</td>\n",
       "      <td>...</td>\n",
       "      <td>...</td>\n",
       "      <td>...</td>\n",
       "      <td>...</td>\n",
       "      <td>...</td>\n",
       "    </tr>\n",
       "    <tr>\n",
       "      <th>238</th>\n",
       "      <td>30</td>\n",
       "      <td>65</td>\n",
       "      <td>14</td>\n",
       "      <td>0.0</td>\n",
       "      <td>85.4</td>\n",
       "      <td>16.0</td>\n",
       "      <td>44.5</td>\n",
       "      <td>4.5</td>\n",
       "      <td>16.9</td>\n",
       "      <td>6.5</td>\n",
       "      <td>fire</td>\n",
       "      <td>1</td>\n",
       "    </tr>\n",
       "    <tr>\n",
       "      <th>239</th>\n",
       "      <td>28</td>\n",
       "      <td>87</td>\n",
       "      <td>15</td>\n",
       "      <td>4.4</td>\n",
       "      <td>41.1</td>\n",
       "      <td>6.5</td>\n",
       "      <td>8.0</td>\n",
       "      <td>0.1</td>\n",
       "      <td>6.2</td>\n",
       "      <td>0.0</td>\n",
       "      <td>not fire</td>\n",
       "      <td>1</td>\n",
       "    </tr>\n",
       "    <tr>\n",
       "      <th>240</th>\n",
       "      <td>27</td>\n",
       "      <td>87</td>\n",
       "      <td>29</td>\n",
       "      <td>0.5</td>\n",
       "      <td>45.9</td>\n",
       "      <td>3.5</td>\n",
       "      <td>7.9</td>\n",
       "      <td>0.4</td>\n",
       "      <td>3.4</td>\n",
       "      <td>0.2</td>\n",
       "      <td>not fire</td>\n",
       "      <td>1</td>\n",
       "    </tr>\n",
       "    <tr>\n",
       "      <th>241</th>\n",
       "      <td>24</td>\n",
       "      <td>54</td>\n",
       "      <td>18</td>\n",
       "      <td>0.1</td>\n",
       "      <td>79.7</td>\n",
       "      <td>4.3</td>\n",
       "      <td>15.2</td>\n",
       "      <td>1.7</td>\n",
       "      <td>5.1</td>\n",
       "      <td>0.7</td>\n",
       "      <td>not fire</td>\n",
       "      <td>1</td>\n",
       "    </tr>\n",
       "    <tr>\n",
       "      <th>242</th>\n",
       "      <td>24</td>\n",
       "      <td>64</td>\n",
       "      <td>15</td>\n",
       "      <td>0.2</td>\n",
       "      <td>67.3</td>\n",
       "      <td>3.8</td>\n",
       "      <td>16.5</td>\n",
       "      <td>1.2</td>\n",
       "      <td>4.8</td>\n",
       "      <td>0.5</td>\n",
       "      <td>not fire</td>\n",
       "      <td>1</td>\n",
       "    </tr>\n",
       "  </tbody>\n",
       "</table>\n",
       "<p>243 rows × 12 columns</p>\n",
       "</div>"
      ],
      "text/plain": [
       "     Temperature   RH   Ws  Rain   FFMC   DMC    DC  ISI   BUI  FWI  \\\n",
       "0             29   57   18    0.0  65.7   3.4   7.6  1.3   3.4  0.5   \n",
       "1             29   61   13    1.3  64.4   4.1   7.6  1.0   3.9  0.4   \n",
       "2             26   82   22   13.1  47.1   2.5   7.1  0.3   2.7  0.1   \n",
       "3             25   89   13    2.5  28.6   1.3   6.9  0.0   1.7  0.0   \n",
       "4             27   77   16    0.0  64.8   3.0  14.2  1.2   3.9  0.5   \n",
       "..           ...  ...  ...    ...   ...   ...   ...  ...   ...  ...   \n",
       "238           30   65   14    0.0  85.4  16.0  44.5  4.5  16.9  6.5   \n",
       "239           28   87   15    4.4  41.1   6.5   8.0  0.1   6.2  0.0   \n",
       "240           27   87   29    0.5  45.9   3.5   7.9  0.4   3.4  0.2   \n",
       "241           24   54   18    0.1  79.7   4.3  15.2  1.7   5.1  0.7   \n",
       "242           24   64   15    0.2  67.3   3.8  16.5  1.2   4.8  0.5   \n",
       "\n",
       "         Classes   Region  \n",
       "0     not fire          0  \n",
       "1     not fire          0  \n",
       "2     not fire          0  \n",
       "3     not fire          0  \n",
       "4     not fire          0  \n",
       "..            ...     ...  \n",
       "238       fire          1  \n",
       "239   not fire          1  \n",
       "240   not fire          1  \n",
       "241   not fire          1  \n",
       "242  not fire           1  \n",
       "\n",
       "[243 rows x 12 columns]"
      ]
     },
     "execution_count": 14,
     "metadata": {},
     "output_type": "execute_result"
    }
   ],
   "source": [
    "df"
   ]
  },
  {
   "cell_type": "code",
   "execution_count": 16,
   "id": "1d3e8b8b",
   "metadata": {},
   "outputs": [
    {
     "data": {
      "text/plain": [
       "fire             131\n",
       "not fire         101\n",
       "fire               4\n",
       "fire               2\n",
       "not fire           2\n",
       "not fire           1\n",
       "not fire           1\n",
       "not fire           1\n",
       "Name: Classes , dtype: int64"
      ]
     },
     "execution_count": 16,
     "metadata": {},
     "output_type": "execute_result"
    }
   ],
   "source": [
    "df['Classes '].value_counts()"
   ]
  },
  {
   "cell_type": "code",
   "execution_count": 21,
   "id": "ca511212",
   "metadata": {},
   "outputs": [],
   "source": [
    "df['Classes ']=np.where(df['Classes '].str.contains('not fire'),0,1)"
   ]
  },
  {
   "cell_type": "code",
   "execution_count": 22,
   "id": "b0a259f0",
   "metadata": {},
   "outputs": [
    {
     "data": {
      "text/html": [
       "<div>\n",
       "<style scoped>\n",
       "    .dataframe tbody tr th:only-of-type {\n",
       "        vertical-align: middle;\n",
       "    }\n",
       "\n",
       "    .dataframe tbody tr th {\n",
       "        vertical-align: top;\n",
       "    }\n",
       "\n",
       "    .dataframe thead th {\n",
       "        text-align: right;\n",
       "    }\n",
       "</style>\n",
       "<table border=\"1\" class=\"dataframe\">\n",
       "  <thead>\n",
       "    <tr style=\"text-align: right;\">\n",
       "      <th></th>\n",
       "      <th>Temperature</th>\n",
       "      <th>RH</th>\n",
       "      <th>Ws</th>\n",
       "      <th>Rain</th>\n",
       "      <th>FFMC</th>\n",
       "      <th>DMC</th>\n",
       "      <th>DC</th>\n",
       "      <th>ISI</th>\n",
       "      <th>BUI</th>\n",
       "      <th>FWI</th>\n",
       "      <th>Classes</th>\n",
       "      <th>Region</th>\n",
       "    </tr>\n",
       "  </thead>\n",
       "  <tbody>\n",
       "    <tr>\n",
       "      <th>0</th>\n",
       "      <td>29</td>\n",
       "      <td>57</td>\n",
       "      <td>18</td>\n",
       "      <td>0.0</td>\n",
       "      <td>65.7</td>\n",
       "      <td>3.4</td>\n",
       "      <td>7.6</td>\n",
       "      <td>1.3</td>\n",
       "      <td>3.4</td>\n",
       "      <td>0.5</td>\n",
       "      <td>0</td>\n",
       "      <td>0</td>\n",
       "    </tr>\n",
       "    <tr>\n",
       "      <th>1</th>\n",
       "      <td>29</td>\n",
       "      <td>61</td>\n",
       "      <td>13</td>\n",
       "      <td>1.3</td>\n",
       "      <td>64.4</td>\n",
       "      <td>4.1</td>\n",
       "      <td>7.6</td>\n",
       "      <td>1.0</td>\n",
       "      <td>3.9</td>\n",
       "      <td>0.4</td>\n",
       "      <td>0</td>\n",
       "      <td>0</td>\n",
       "    </tr>\n",
       "    <tr>\n",
       "      <th>2</th>\n",
       "      <td>26</td>\n",
       "      <td>82</td>\n",
       "      <td>22</td>\n",
       "      <td>13.1</td>\n",
       "      <td>47.1</td>\n",
       "      <td>2.5</td>\n",
       "      <td>7.1</td>\n",
       "      <td>0.3</td>\n",
       "      <td>2.7</td>\n",
       "      <td>0.1</td>\n",
       "      <td>0</td>\n",
       "      <td>0</td>\n",
       "    </tr>\n",
       "    <tr>\n",
       "      <th>3</th>\n",
       "      <td>25</td>\n",
       "      <td>89</td>\n",
       "      <td>13</td>\n",
       "      <td>2.5</td>\n",
       "      <td>28.6</td>\n",
       "      <td>1.3</td>\n",
       "      <td>6.9</td>\n",
       "      <td>0.0</td>\n",
       "      <td>1.7</td>\n",
       "      <td>0.0</td>\n",
       "      <td>0</td>\n",
       "      <td>0</td>\n",
       "    </tr>\n",
       "    <tr>\n",
       "      <th>4</th>\n",
       "      <td>27</td>\n",
       "      <td>77</td>\n",
       "      <td>16</td>\n",
       "      <td>0.0</td>\n",
       "      <td>64.8</td>\n",
       "      <td>3.0</td>\n",
       "      <td>14.2</td>\n",
       "      <td>1.2</td>\n",
       "      <td>3.9</td>\n",
       "      <td>0.5</td>\n",
       "      <td>0</td>\n",
       "      <td>0</td>\n",
       "    </tr>\n",
       "    <tr>\n",
       "      <th>...</th>\n",
       "      <td>...</td>\n",
       "      <td>...</td>\n",
       "      <td>...</td>\n",
       "      <td>...</td>\n",
       "      <td>...</td>\n",
       "      <td>...</td>\n",
       "      <td>...</td>\n",
       "      <td>...</td>\n",
       "      <td>...</td>\n",
       "      <td>...</td>\n",
       "      <td>...</td>\n",
       "      <td>...</td>\n",
       "    </tr>\n",
       "    <tr>\n",
       "      <th>238</th>\n",
       "      <td>30</td>\n",
       "      <td>65</td>\n",
       "      <td>14</td>\n",
       "      <td>0.0</td>\n",
       "      <td>85.4</td>\n",
       "      <td>16.0</td>\n",
       "      <td>44.5</td>\n",
       "      <td>4.5</td>\n",
       "      <td>16.9</td>\n",
       "      <td>6.5</td>\n",
       "      <td>1</td>\n",
       "      <td>1</td>\n",
       "    </tr>\n",
       "    <tr>\n",
       "      <th>239</th>\n",
       "      <td>28</td>\n",
       "      <td>87</td>\n",
       "      <td>15</td>\n",
       "      <td>4.4</td>\n",
       "      <td>41.1</td>\n",
       "      <td>6.5</td>\n",
       "      <td>8.0</td>\n",
       "      <td>0.1</td>\n",
       "      <td>6.2</td>\n",
       "      <td>0.0</td>\n",
       "      <td>0</td>\n",
       "      <td>1</td>\n",
       "    </tr>\n",
       "    <tr>\n",
       "      <th>240</th>\n",
       "      <td>27</td>\n",
       "      <td>87</td>\n",
       "      <td>29</td>\n",
       "      <td>0.5</td>\n",
       "      <td>45.9</td>\n",
       "      <td>3.5</td>\n",
       "      <td>7.9</td>\n",
       "      <td>0.4</td>\n",
       "      <td>3.4</td>\n",
       "      <td>0.2</td>\n",
       "      <td>0</td>\n",
       "      <td>1</td>\n",
       "    </tr>\n",
       "    <tr>\n",
       "      <th>241</th>\n",
       "      <td>24</td>\n",
       "      <td>54</td>\n",
       "      <td>18</td>\n",
       "      <td>0.1</td>\n",
       "      <td>79.7</td>\n",
       "      <td>4.3</td>\n",
       "      <td>15.2</td>\n",
       "      <td>1.7</td>\n",
       "      <td>5.1</td>\n",
       "      <td>0.7</td>\n",
       "      <td>0</td>\n",
       "      <td>1</td>\n",
       "    </tr>\n",
       "    <tr>\n",
       "      <th>242</th>\n",
       "      <td>24</td>\n",
       "      <td>64</td>\n",
       "      <td>15</td>\n",
       "      <td>0.2</td>\n",
       "      <td>67.3</td>\n",
       "      <td>3.8</td>\n",
       "      <td>16.5</td>\n",
       "      <td>1.2</td>\n",
       "      <td>4.8</td>\n",
       "      <td>0.5</td>\n",
       "      <td>0</td>\n",
       "      <td>1</td>\n",
       "    </tr>\n",
       "  </tbody>\n",
       "</table>\n",
       "<p>243 rows × 12 columns</p>\n",
       "</div>"
      ],
      "text/plain": [
       "     Temperature   RH   Ws  Rain   FFMC   DMC    DC  ISI   BUI  FWI  Classes   \\\n",
       "0             29   57   18    0.0  65.7   3.4   7.6  1.3   3.4  0.5         0   \n",
       "1             29   61   13    1.3  64.4   4.1   7.6  1.0   3.9  0.4         0   \n",
       "2             26   82   22   13.1  47.1   2.5   7.1  0.3   2.7  0.1         0   \n",
       "3             25   89   13    2.5  28.6   1.3   6.9  0.0   1.7  0.0         0   \n",
       "4             27   77   16    0.0  64.8   3.0  14.2  1.2   3.9  0.5         0   \n",
       "..           ...  ...  ...    ...   ...   ...   ...  ...   ...  ...       ...   \n",
       "238           30   65   14    0.0  85.4  16.0  44.5  4.5  16.9  6.5         1   \n",
       "239           28   87   15    4.4  41.1   6.5   8.0  0.1   6.2  0.0         0   \n",
       "240           27   87   29    0.5  45.9   3.5   7.9  0.4   3.4  0.2         0   \n",
       "241           24   54   18    0.1  79.7   4.3  15.2  1.7   5.1  0.7         0   \n",
       "242           24   64   15    0.2  67.3   3.8  16.5  1.2   4.8  0.5         0   \n",
       "\n",
       "     Region  \n",
       "0         0  \n",
       "1         0  \n",
       "2         0  \n",
       "3         0  \n",
       "4         0  \n",
       "..      ...  \n",
       "238       1  \n",
       "239       1  \n",
       "240       1  \n",
       "241       1  \n",
       "242       1  \n",
       "\n",
       "[243 rows x 12 columns]"
      ]
     },
     "execution_count": 22,
     "metadata": {},
     "output_type": "execute_result"
    }
   ],
   "source": [
    "df"
   ]
  },
  {
   "cell_type": "code",
   "execution_count": 23,
   "id": "7146f5a2",
   "metadata": {},
   "outputs": [
    {
     "data": {
      "text/plain": [
       "1    137\n",
       "0    106\n",
       "Name: Classes , dtype: int64"
      ]
     },
     "execution_count": 23,
     "metadata": {},
     "output_type": "execute_result"
    }
   ],
   "source": [
    "df['Classes '].value_counts()"
   ]
  },
  {
   "cell_type": "code",
   "execution_count": 28,
   "id": "57cd9f95",
   "metadata": {},
   "outputs": [],
   "source": [
    "#Independent snd dependent variables'\n",
    "Y=df.drop(['Temperature', ' RH', ' Ws', 'Rain ', 'FFMC','DMC', 'DC', 'ISI', 'BUI', 'Classes ', 'Region'],axis=1)"
   ]
  },
  {
   "cell_type": "code",
   "execution_count": 29,
   "id": "9bb50a36",
   "metadata": {},
   "outputs": [
    {
     "data": {
      "text/html": [
       "<div>\n",
       "<style scoped>\n",
       "    .dataframe tbody tr th:only-of-type {\n",
       "        vertical-align: middle;\n",
       "    }\n",
       "\n",
       "    .dataframe tbody tr th {\n",
       "        vertical-align: top;\n",
       "    }\n",
       "\n",
       "    .dataframe thead th {\n",
       "        text-align: right;\n",
       "    }\n",
       "</style>\n",
       "<table border=\"1\" class=\"dataframe\">\n",
       "  <thead>\n",
       "    <tr style=\"text-align: right;\">\n",
       "      <th></th>\n",
       "      <th>FWI</th>\n",
       "    </tr>\n",
       "  </thead>\n",
       "  <tbody>\n",
       "    <tr>\n",
       "      <th>0</th>\n",
       "      <td>0.5</td>\n",
       "    </tr>\n",
       "    <tr>\n",
       "      <th>1</th>\n",
       "      <td>0.4</td>\n",
       "    </tr>\n",
       "    <tr>\n",
       "      <th>2</th>\n",
       "      <td>0.1</td>\n",
       "    </tr>\n",
       "    <tr>\n",
       "      <th>3</th>\n",
       "      <td>0.0</td>\n",
       "    </tr>\n",
       "    <tr>\n",
       "      <th>4</th>\n",
       "      <td>0.5</td>\n",
       "    </tr>\n",
       "    <tr>\n",
       "      <th>...</th>\n",
       "      <td>...</td>\n",
       "    </tr>\n",
       "    <tr>\n",
       "      <th>238</th>\n",
       "      <td>6.5</td>\n",
       "    </tr>\n",
       "    <tr>\n",
       "      <th>239</th>\n",
       "      <td>0.0</td>\n",
       "    </tr>\n",
       "    <tr>\n",
       "      <th>240</th>\n",
       "      <td>0.2</td>\n",
       "    </tr>\n",
       "    <tr>\n",
       "      <th>241</th>\n",
       "      <td>0.7</td>\n",
       "    </tr>\n",
       "    <tr>\n",
       "      <th>242</th>\n",
       "      <td>0.5</td>\n",
       "    </tr>\n",
       "  </tbody>\n",
       "</table>\n",
       "<p>243 rows × 1 columns</p>\n",
       "</div>"
      ],
      "text/plain": [
       "     FWI\n",
       "0    0.5\n",
       "1    0.4\n",
       "2    0.1\n",
       "3    0.0\n",
       "4    0.5\n",
       "..   ...\n",
       "238  6.5\n",
       "239  0.0\n",
       "240  0.2\n",
       "241  0.7\n",
       "242  0.5\n",
       "\n",
       "[243 rows x 1 columns]"
      ]
     },
     "execution_count": 29,
     "metadata": {},
     "output_type": "execute_result"
    }
   ],
   "source": [
    "Y"
   ]
  },
  {
   "cell_type": "code",
   "execution_count": 30,
   "id": "62c26a32",
   "metadata": {},
   "outputs": [],
   "source": [
    "X=df.drop(['FWI'],axis=1)"
   ]
  },
  {
   "cell_type": "code",
   "execution_count": 31,
   "id": "7f9c0611",
   "metadata": {},
   "outputs": [
    {
     "data": {
      "text/html": [
       "<div>\n",
       "<style scoped>\n",
       "    .dataframe tbody tr th:only-of-type {\n",
       "        vertical-align: middle;\n",
       "    }\n",
       "\n",
       "    .dataframe tbody tr th {\n",
       "        vertical-align: top;\n",
       "    }\n",
       "\n",
       "    .dataframe thead th {\n",
       "        text-align: right;\n",
       "    }\n",
       "</style>\n",
       "<table border=\"1\" class=\"dataframe\">\n",
       "  <thead>\n",
       "    <tr style=\"text-align: right;\">\n",
       "      <th></th>\n",
       "      <th>Temperature</th>\n",
       "      <th>RH</th>\n",
       "      <th>Ws</th>\n",
       "      <th>Rain</th>\n",
       "      <th>FFMC</th>\n",
       "      <th>DMC</th>\n",
       "      <th>DC</th>\n",
       "      <th>ISI</th>\n",
       "      <th>BUI</th>\n",
       "      <th>Classes</th>\n",
       "      <th>Region</th>\n",
       "    </tr>\n",
       "  </thead>\n",
       "  <tbody>\n",
       "    <tr>\n",
       "      <th>0</th>\n",
       "      <td>29</td>\n",
       "      <td>57</td>\n",
       "      <td>18</td>\n",
       "      <td>0.0</td>\n",
       "      <td>65.7</td>\n",
       "      <td>3.4</td>\n",
       "      <td>7.6</td>\n",
       "      <td>1.3</td>\n",
       "      <td>3.4</td>\n",
       "      <td>0</td>\n",
       "      <td>0</td>\n",
       "    </tr>\n",
       "    <tr>\n",
       "      <th>1</th>\n",
       "      <td>29</td>\n",
       "      <td>61</td>\n",
       "      <td>13</td>\n",
       "      <td>1.3</td>\n",
       "      <td>64.4</td>\n",
       "      <td>4.1</td>\n",
       "      <td>7.6</td>\n",
       "      <td>1.0</td>\n",
       "      <td>3.9</td>\n",
       "      <td>0</td>\n",
       "      <td>0</td>\n",
       "    </tr>\n",
       "    <tr>\n",
       "      <th>2</th>\n",
       "      <td>26</td>\n",
       "      <td>82</td>\n",
       "      <td>22</td>\n",
       "      <td>13.1</td>\n",
       "      <td>47.1</td>\n",
       "      <td>2.5</td>\n",
       "      <td>7.1</td>\n",
       "      <td>0.3</td>\n",
       "      <td>2.7</td>\n",
       "      <td>0</td>\n",
       "      <td>0</td>\n",
       "    </tr>\n",
       "    <tr>\n",
       "      <th>3</th>\n",
       "      <td>25</td>\n",
       "      <td>89</td>\n",
       "      <td>13</td>\n",
       "      <td>2.5</td>\n",
       "      <td>28.6</td>\n",
       "      <td>1.3</td>\n",
       "      <td>6.9</td>\n",
       "      <td>0.0</td>\n",
       "      <td>1.7</td>\n",
       "      <td>0</td>\n",
       "      <td>0</td>\n",
       "    </tr>\n",
       "    <tr>\n",
       "      <th>4</th>\n",
       "      <td>27</td>\n",
       "      <td>77</td>\n",
       "      <td>16</td>\n",
       "      <td>0.0</td>\n",
       "      <td>64.8</td>\n",
       "      <td>3.0</td>\n",
       "      <td>14.2</td>\n",
       "      <td>1.2</td>\n",
       "      <td>3.9</td>\n",
       "      <td>0</td>\n",
       "      <td>0</td>\n",
       "    </tr>\n",
       "    <tr>\n",
       "      <th>...</th>\n",
       "      <td>...</td>\n",
       "      <td>...</td>\n",
       "      <td>...</td>\n",
       "      <td>...</td>\n",
       "      <td>...</td>\n",
       "      <td>...</td>\n",
       "      <td>...</td>\n",
       "      <td>...</td>\n",
       "      <td>...</td>\n",
       "      <td>...</td>\n",
       "      <td>...</td>\n",
       "    </tr>\n",
       "    <tr>\n",
       "      <th>238</th>\n",
       "      <td>30</td>\n",
       "      <td>65</td>\n",
       "      <td>14</td>\n",
       "      <td>0.0</td>\n",
       "      <td>85.4</td>\n",
       "      <td>16.0</td>\n",
       "      <td>44.5</td>\n",
       "      <td>4.5</td>\n",
       "      <td>16.9</td>\n",
       "      <td>1</td>\n",
       "      <td>1</td>\n",
       "    </tr>\n",
       "    <tr>\n",
       "      <th>239</th>\n",
       "      <td>28</td>\n",
       "      <td>87</td>\n",
       "      <td>15</td>\n",
       "      <td>4.4</td>\n",
       "      <td>41.1</td>\n",
       "      <td>6.5</td>\n",
       "      <td>8.0</td>\n",
       "      <td>0.1</td>\n",
       "      <td>6.2</td>\n",
       "      <td>0</td>\n",
       "      <td>1</td>\n",
       "    </tr>\n",
       "    <tr>\n",
       "      <th>240</th>\n",
       "      <td>27</td>\n",
       "      <td>87</td>\n",
       "      <td>29</td>\n",
       "      <td>0.5</td>\n",
       "      <td>45.9</td>\n",
       "      <td>3.5</td>\n",
       "      <td>7.9</td>\n",
       "      <td>0.4</td>\n",
       "      <td>3.4</td>\n",
       "      <td>0</td>\n",
       "      <td>1</td>\n",
       "    </tr>\n",
       "    <tr>\n",
       "      <th>241</th>\n",
       "      <td>24</td>\n",
       "      <td>54</td>\n",
       "      <td>18</td>\n",
       "      <td>0.1</td>\n",
       "      <td>79.7</td>\n",
       "      <td>4.3</td>\n",
       "      <td>15.2</td>\n",
       "      <td>1.7</td>\n",
       "      <td>5.1</td>\n",
       "      <td>0</td>\n",
       "      <td>1</td>\n",
       "    </tr>\n",
       "    <tr>\n",
       "      <th>242</th>\n",
       "      <td>24</td>\n",
       "      <td>64</td>\n",
       "      <td>15</td>\n",
       "      <td>0.2</td>\n",
       "      <td>67.3</td>\n",
       "      <td>3.8</td>\n",
       "      <td>16.5</td>\n",
       "      <td>1.2</td>\n",
       "      <td>4.8</td>\n",
       "      <td>0</td>\n",
       "      <td>1</td>\n",
       "    </tr>\n",
       "  </tbody>\n",
       "</table>\n",
       "<p>243 rows × 11 columns</p>\n",
       "</div>"
      ],
      "text/plain": [
       "     Temperature   RH   Ws  Rain   FFMC   DMC    DC  ISI   BUI  Classes   \\\n",
       "0             29   57   18    0.0  65.7   3.4   7.6  1.3   3.4         0   \n",
       "1             29   61   13    1.3  64.4   4.1   7.6  1.0   3.9         0   \n",
       "2             26   82   22   13.1  47.1   2.5   7.1  0.3   2.7         0   \n",
       "3             25   89   13    2.5  28.6   1.3   6.9  0.0   1.7         0   \n",
       "4             27   77   16    0.0  64.8   3.0  14.2  1.2   3.9         0   \n",
       "..           ...  ...  ...    ...   ...   ...   ...  ...   ...       ...   \n",
       "238           30   65   14    0.0  85.4  16.0  44.5  4.5  16.9         1   \n",
       "239           28   87   15    4.4  41.1   6.5   8.0  0.1   6.2         0   \n",
       "240           27   87   29    0.5  45.9   3.5   7.9  0.4   3.4         0   \n",
       "241           24   54   18    0.1  79.7   4.3  15.2  1.7   5.1         0   \n",
       "242           24   64   15    0.2  67.3   3.8  16.5  1.2   4.8         0   \n",
       "\n",
       "     Region  \n",
       "0         0  \n",
       "1         0  \n",
       "2         0  \n",
       "3         0  \n",
       "4         0  \n",
       "..      ...  \n",
       "238       1  \n",
       "239       1  \n",
       "240       1  \n",
       "241       1  \n",
       "242       1  \n",
       "\n",
       "[243 rows x 11 columns]"
      ]
     },
     "execution_count": 31,
     "metadata": {},
     "output_type": "execute_result"
    }
   ],
   "source": [
    "X\n"
   ]
  },
  {
   "cell_type": "code",
   "execution_count": 34,
   "id": "66a7b807",
   "metadata": {},
   "outputs": [],
   "source": [
    "#train test split\n",
    "from sklearn.model_selection import train_test_split\n",
    "X_train,X_test,Y_train,Y_test=train_test_split(X,Y, test_size=0.25,random_state=42)"
   ]
  },
  {
   "cell_type": "code",
   "execution_count": 35,
   "id": "013ef3d1",
   "metadata": {},
   "outputs": [
    {
     "data": {
      "text/plain": [
       "((182, 11), (61, 11))"
      ]
     },
     "execution_count": 35,
     "metadata": {},
     "output_type": "execute_result"
    }
   ],
   "source": [
    "X_train.shape, X_test.shape"
   ]
  },
  {
   "cell_type": "markdown",
   "id": "a515becb",
   "metadata": {},
   "source": [
    "##feature selection based on correlation"
   ]
  },
  {
   "cell_type": "code",
   "execution_count": 36,
   "id": "16934f82",
   "metadata": {},
   "outputs": [
    {
     "data": {
      "text/html": [
       "<div>\n",
       "<style scoped>\n",
       "    .dataframe tbody tr th:only-of-type {\n",
       "        vertical-align: middle;\n",
       "    }\n",
       "\n",
       "    .dataframe tbody tr th {\n",
       "        vertical-align: top;\n",
       "    }\n",
       "\n",
       "    .dataframe thead th {\n",
       "        text-align: right;\n",
       "    }\n",
       "</style>\n",
       "<table border=\"1\" class=\"dataframe\">\n",
       "  <thead>\n",
       "    <tr style=\"text-align: right;\">\n",
       "      <th></th>\n",
       "      <th>Temperature</th>\n",
       "      <th>RH</th>\n",
       "      <th>Ws</th>\n",
       "      <th>Rain</th>\n",
       "      <th>FFMC</th>\n",
       "      <th>DMC</th>\n",
       "      <th>DC</th>\n",
       "      <th>ISI</th>\n",
       "      <th>BUI</th>\n",
       "      <th>Classes</th>\n",
       "      <th>Region</th>\n",
       "    </tr>\n",
       "  </thead>\n",
       "  <tbody>\n",
       "    <tr>\n",
       "      <th>Temperature</th>\n",
       "      <td>1.000000</td>\n",
       "      <td>-0.656095</td>\n",
       "      <td>-0.305977</td>\n",
       "      <td>-0.317512</td>\n",
       "      <td>0.694768</td>\n",
       "      <td>0.498173</td>\n",
       "      <td>0.390684</td>\n",
       "      <td>0.629848</td>\n",
       "      <td>0.473609</td>\n",
       "      <td>0.542141</td>\n",
       "      <td>0.254549</td>\n",
       "    </tr>\n",
       "    <tr>\n",
       "      <th>RH</th>\n",
       "      <td>-0.656095</td>\n",
       "      <td>1.000000</td>\n",
       "      <td>0.225736</td>\n",
       "      <td>0.241656</td>\n",
       "      <td>-0.653023</td>\n",
       "      <td>-0.414601</td>\n",
       "      <td>-0.236078</td>\n",
       "      <td>-0.717804</td>\n",
       "      <td>-0.362317</td>\n",
       "      <td>-0.456876</td>\n",
       "      <td>-0.394665</td>\n",
       "    </tr>\n",
       "    <tr>\n",
       "      <th>Ws</th>\n",
       "      <td>-0.305977</td>\n",
       "      <td>0.225736</td>\n",
       "      <td>1.000000</td>\n",
       "      <td>0.251932</td>\n",
       "      <td>-0.190076</td>\n",
       "      <td>0.000379</td>\n",
       "      <td>0.096576</td>\n",
       "      <td>-0.023558</td>\n",
       "      <td>0.035633</td>\n",
       "      <td>-0.082570</td>\n",
       "      <td>-0.199969</td>\n",
       "    </tr>\n",
       "    <tr>\n",
       "      <th>Rain</th>\n",
       "      <td>-0.317512</td>\n",
       "      <td>0.241656</td>\n",
       "      <td>0.251932</td>\n",
       "      <td>1.000000</td>\n",
       "      <td>-0.545491</td>\n",
       "      <td>-0.289754</td>\n",
       "      <td>-0.302341</td>\n",
       "      <td>-0.345707</td>\n",
       "      <td>-0.300964</td>\n",
       "      <td>-0.369357</td>\n",
       "      <td>-0.059022</td>\n",
       "    </tr>\n",
       "    <tr>\n",
       "      <th>FFMC</th>\n",
       "      <td>0.694768</td>\n",
       "      <td>-0.653023</td>\n",
       "      <td>-0.190076</td>\n",
       "      <td>-0.545491</td>\n",
       "      <td>1.000000</td>\n",
       "      <td>0.620807</td>\n",
       "      <td>0.524101</td>\n",
       "      <td>0.750799</td>\n",
       "      <td>0.607210</td>\n",
       "      <td>0.781259</td>\n",
       "      <td>0.249514</td>\n",
       "    </tr>\n",
       "    <tr>\n",
       "      <th>DMC</th>\n",
       "      <td>0.498173</td>\n",
       "      <td>-0.414601</td>\n",
       "      <td>0.000379</td>\n",
       "      <td>-0.289754</td>\n",
       "      <td>0.620807</td>\n",
       "      <td>1.000000</td>\n",
       "      <td>0.868647</td>\n",
       "      <td>0.685656</td>\n",
       "      <td>0.983175</td>\n",
       "      <td>0.617273</td>\n",
       "      <td>0.212582</td>\n",
       "    </tr>\n",
       "    <tr>\n",
       "      <th>DC</th>\n",
       "      <td>0.390684</td>\n",
       "      <td>-0.236078</td>\n",
       "      <td>0.096576</td>\n",
       "      <td>-0.302341</td>\n",
       "      <td>0.524101</td>\n",
       "      <td>0.868647</td>\n",
       "      <td>1.000000</td>\n",
       "      <td>0.513701</td>\n",
       "      <td>0.942414</td>\n",
       "      <td>0.543581</td>\n",
       "      <td>-0.060838</td>\n",
       "    </tr>\n",
       "    <tr>\n",
       "      <th>ISI</th>\n",
       "      <td>0.629848</td>\n",
       "      <td>-0.717804</td>\n",
       "      <td>-0.023558</td>\n",
       "      <td>-0.345707</td>\n",
       "      <td>0.750799</td>\n",
       "      <td>0.685656</td>\n",
       "      <td>0.513701</td>\n",
       "      <td>1.000000</td>\n",
       "      <td>0.643818</td>\n",
       "      <td>0.742977</td>\n",
       "      <td>0.296441</td>\n",
       "    </tr>\n",
       "    <tr>\n",
       "      <th>BUI</th>\n",
       "      <td>0.473609</td>\n",
       "      <td>-0.362317</td>\n",
       "      <td>0.035633</td>\n",
       "      <td>-0.300964</td>\n",
       "      <td>0.607210</td>\n",
       "      <td>0.983175</td>\n",
       "      <td>0.942414</td>\n",
       "      <td>0.643818</td>\n",
       "      <td>1.000000</td>\n",
       "      <td>0.612239</td>\n",
       "      <td>0.114897</td>\n",
       "    </tr>\n",
       "    <tr>\n",
       "      <th>Classes</th>\n",
       "      <td>0.542141</td>\n",
       "      <td>-0.456876</td>\n",
       "      <td>-0.082570</td>\n",
       "      <td>-0.369357</td>\n",
       "      <td>0.781259</td>\n",
       "      <td>0.617273</td>\n",
       "      <td>0.543581</td>\n",
       "      <td>0.742977</td>\n",
       "      <td>0.612239</td>\n",
       "      <td>1.000000</td>\n",
       "      <td>0.188837</td>\n",
       "    </tr>\n",
       "    <tr>\n",
       "      <th>Region</th>\n",
       "      <td>0.254549</td>\n",
       "      <td>-0.394665</td>\n",
       "      <td>-0.199969</td>\n",
       "      <td>-0.059022</td>\n",
       "      <td>0.249514</td>\n",
       "      <td>0.212582</td>\n",
       "      <td>-0.060838</td>\n",
       "      <td>0.296441</td>\n",
       "      <td>0.114897</td>\n",
       "      <td>0.188837</td>\n",
       "      <td>1.000000</td>\n",
       "    </tr>\n",
       "  </tbody>\n",
       "</table>\n",
       "</div>"
      ],
      "text/plain": [
       "             Temperature        RH        Ws     Rain       FFMC       DMC  \\\n",
       "Temperature     1.000000 -0.656095 -0.305977 -0.317512  0.694768  0.498173   \n",
       " RH            -0.656095  1.000000  0.225736  0.241656 -0.653023 -0.414601   \n",
       " Ws            -0.305977  0.225736  1.000000  0.251932 -0.190076  0.000379   \n",
       "Rain           -0.317512  0.241656  0.251932  1.000000 -0.545491 -0.289754   \n",
       "FFMC            0.694768 -0.653023 -0.190076 -0.545491  1.000000  0.620807   \n",
       "DMC             0.498173 -0.414601  0.000379 -0.289754  0.620807  1.000000   \n",
       "DC              0.390684 -0.236078  0.096576 -0.302341  0.524101  0.868647   \n",
       "ISI             0.629848 -0.717804 -0.023558 -0.345707  0.750799  0.685656   \n",
       "BUI             0.473609 -0.362317  0.035633 -0.300964  0.607210  0.983175   \n",
       "Classes         0.542141 -0.456876 -0.082570 -0.369357  0.781259  0.617273   \n",
       "Region          0.254549 -0.394665 -0.199969 -0.059022  0.249514  0.212582   \n",
       "\n",
       "                   DC       ISI       BUI  Classes     Region  \n",
       "Temperature  0.390684  0.629848  0.473609  0.542141  0.254549  \n",
       " RH         -0.236078 -0.717804 -0.362317 -0.456876 -0.394665  \n",
       " Ws          0.096576 -0.023558  0.035633 -0.082570 -0.199969  \n",
       "Rain        -0.302341 -0.345707 -0.300964 -0.369357 -0.059022  \n",
       "FFMC         0.524101  0.750799  0.607210  0.781259  0.249514  \n",
       "DMC          0.868647  0.685656  0.983175  0.617273  0.212582  \n",
       "DC           1.000000  0.513701  0.942414  0.543581 -0.060838  \n",
       "ISI          0.513701  1.000000  0.643818  0.742977  0.296441  \n",
       "BUI          0.942414  0.643818  1.000000  0.612239  0.114897  \n",
       "Classes      0.543581  0.742977  0.612239  1.000000  0.188837  \n",
       "Region      -0.060838  0.296441  0.114897  0.188837  1.000000  "
      ]
     },
     "execution_count": 36,
     "metadata": {},
     "output_type": "execute_result"
    }
   ],
   "source": [
    "X_train.corr()"
   ]
  },
  {
   "cell_type": "code",
   "execution_count": 39,
   "id": "2b331c26",
   "metadata": {},
   "outputs": [
    {
     "data": {
      "text/plain": [
       "<AxesSubplot:>"
      ]
     },
     "execution_count": 39,
     "metadata": {},
     "output_type": "execute_result"
    },
    {
     "data": {
      "image/png": "[encoded data removed]",
      "text/plain": [
       "<Figure size 864x720 with 2 Axes>"
      ]
     },
     "metadata": {
      "needs_background": "light"
     },
     "output_type": "display_data"
    }
   ],
   "source": [
    "##check for multicollinearity\n",
    "plt.figure(figsize=(12,10))\n",
    "corr=X_train.corr()\n",
    "sns.heatmap(corr,annot=True)"
   ]
  },
  {
   "cell_type": "code",
   "execution_count": 40,
   "id": "a7dfe881",
   "metadata": {},
   "outputs": [],
   "source": [
    "def correlation(dataset, threshold):\n",
    "    col_corr=set()\n",
    "    corr_matrix=dataset.corr()\n",
    "    for i in range(len(corr_matrix.columns)):\n",
    "        for j in range(i):\n",
    "            if abs(corr_matrix.iloc[i, j])>threshold:\n",
    "                colname =corr_matrix.columns[i]\n",
    "                col_corr.add(colname)\n",
    "    return col_corr\n",
    "                "
   ]
  },
  {
   "cell_type": "code",
   "execution_count": 44,
   "id": "5140e21c",
   "metadata": {},
   "outputs": [],
   "source": [
    "##threshold\n",
    "corr_features=correlation(X_train, 0.85)"
   ]
  },
  {
   "cell_type": "code",
   "execution_count": 49,
   "id": "a39b995b",
   "metadata": {},
   "outputs": [],
   "source": [
    "##drop features with corr more than 0.85\n",
    "#X_train.drop(corr_features,axis=1,inplace=True)\n",
    "X_test.drop(corr_features,axis=1,inplace=True)"
   ]
  },
  {
   "cell_type": "markdown",
   "id": "dc908b88",
   "metadata": {},
   "source": [
    "##feature scaling or nomalisation"
   ]
  },
  {
   "cell_type": "code",
   "execution_count": 59,
   "id": "5f13daf4",
   "metadata": {},
   "outputs": [],
   "source": [
    "from sklearn.preprocessing import StandardScaler\n",
    "scaler=StandardScaler()\n",
    "X.train_scaled=scaler.fit_transform(X_train)\n",
    "X.test_scaled=scaler.fit_transform(X_test)"
   ]
  },
  {
   "cell_type": "code",
   "execution_count": 61,
   "id": "ed4e3a97",
   "metadata": {},
   "outputs": [
    {
     "data": {
      "text/plain": [
       "array([[-0.84284248,  0.78307967,  1.29972026, ..., -0.62963326,\n",
       "        -1.10431526, -0.98907071],\n",
       "       [-0.30175842,  0.64950844, -0.59874754, ..., -0.93058524,\n",
       "        -1.10431526,  1.01105006],\n",
       "       [ 2.13311985, -2.08870172, -0.21905398, ...,  2.7271388 ,\n",
       "         0.90553851,  1.01105006],\n",
       "       ...,\n",
       "       [-1.9250106 ,  0.9166509 ,  0.54033314, ..., -1.06948615,\n",
       "        -1.10431526, -0.98907071],\n",
       "       [ 0.50986767, -0.21870454,  0.16063958, ...,  0.5973248 ,\n",
       "         0.90553851,  1.01105006],\n",
       "       [-0.57230045,  0.98343651,  2.05910739, ..., -0.86113478,\n",
       "        -1.10431526, -0.98907071]])"
      ]
     },
     "execution_count": 61,
     "metadata": {},
     "output_type": "execute_result"
    }
   ],
   "source": [
    "X.train_scaled"
   ]
  },
  {
   "cell_type": "code",
   "execution_count": 62,
   "id": "01c98ac0",
   "metadata": {},
   "outputs": [],
   "source": [
    "##box plot to understand effect of scaler"
   ]
  },
  {
   "cell_type": "code",
   "execution_count": 65,
   "id": "3a9b1463",
   "metadata": {},
   "outputs": [
    {
     "data": {
      "text/plain": [
       "Text(0.5, 1.0, 'x_train after scaling')"
      ]
     },
     "execution_count": 65,
     "metadata": {},
     "output_type": "execute_result"
    },
    {
     "data": {
      "image/png": "[encoded data removed]",
      "text/plain": [
       "<Figure size 864x720 with 2 Axes>"
      ]
     },
     "metadata": {
      "needs_background": "light"
     },
     "output_type": "display_data"
    }
   ],
   "source": [
    "plt.subplots(figsize=(12,10))\n",
    "plt.subplot(1,2,1)\n",
    "sns.boxplot(data=X_train)\n",
    "plt.title('x_train before scaling')\n",
    "plt.subplot(1,2,2)\n",
    "sns.boxplot(data=X.train_scaled)\n",
    "plt.title('x_train after scaling')"
   ]
  },
  {
   "cell_type": "markdown",
   "id": "86be91ed",
   "metadata": {},
   "source": [
    "##linear regression model"
   ]
  },
  {
   "cell_type": "code",
   "execution_count": 80,
   "id": "a2c519e5",
   "metadata": {},
   "outputs": [
    {
     "name": "stdout",
     "output_type": "stream",
     "text": [
      "Mean_absolute_error 0.9939450225331395\n",
      "R score 0.9607056657860651\n"
     ]
    },
    {
     "data": {
      "text/plain": [
       "<matplotlib.collections.PathCollection at 0x25c35842be0>"
      ]
     },
     "execution_count": 80,
     "metadata": {},
     "output_type": "execute_result"
    },
    {
     "data": {
      "image/png": "[encoded data removed]",
      "text/plain": [
       "<Figure size 432x288 with 1 Axes>"
      ]
     },
     "metadata": {
      "needs_background": "light"
     },
     "output_type": "display_data"
    }
   ],
   "source": [
    "from sklearn.linear_model import LinearRegression\n",
    "from sklearn.metrics import mean_absolute_error\n",
    "from sklearn.metrics import r2_score\n",
    "linreg=LinearRegression()\n",
    "linreg.fit(X.train_scaled,Y_train)\n",
    "y_pred=linreg.predict(X.test_scaled)\n",
    "mae=mean_absolute_error(Y_test,y_pred)\n",
    "score=r2_score(Y_test,y_pred)\n",
    "print('Mean_absolute_error', mae)\n",
    "print('R score', score)\n",
    "plt.scatter(Y_test,y_pred)"
   ]
  },
  {
   "cell_type": "markdown",
   "id": "b76c4cd2",
   "metadata": {},
   "source": [
    "##Lasso regression"
   ]
  },
  {
   "cell_type": "code",
   "execution_count": 81,
   "id": "5384e505",
   "metadata": {},
   "outputs": [
    {
     "name": "stdout",
     "output_type": "stream",
     "text": [
      "Mean_absolute_error 0.9605020166901075\n",
      "R score 0.9692970913627958\n"
     ]
    },
    {
     "data": {
      "text/plain": [
       "<matplotlib.collections.PathCollection at 0x25c327ae910>"
      ]
     },
     "execution_count": 81,
     "metadata": {},
     "output_type": "execute_result"
    },
    {
     "data": {
      "image/png": "[encoded data removed]",
      "text/plain": [
       "<Figure size 432x288 with 1 Axes>"
      ]
     },
     "metadata": {
      "needs_background": "light"
     },
     "output_type": "display_data"
    }
   ],
   "source": [
    "from sklearn.linear_model import Lasso\n",
    "from sklearn.metrics import mean_absolute_error\n",
    "from sklearn.metrics import r2_score\n",
    "lasso=Lasso()\n",
    "lasso.fit(X.train_scaled,Y_train)\n",
    "y_pred=lasso.predict(X.test_scaled)\n",
    "mae=mean_absolute_error(Y_test,y_pred)\n",
    "score=r2_score(Y_test,y_pred)\n",
    "print('Mean_absolute_error', mae)\n",
    "print('R score', score)\n",
    "plt.scatter(Y_test,y_pred)"
   ]
  },
  {
   "cell_type": "markdown",
   "id": "a5589475",
   "metadata": {},
   "source": [
    "##Ridge regression"
   ]
  },
  {
   "cell_type": "code",
   "execution_count": 83,
   "id": "0dc75687",
   "metadata": {},
   "outputs": [
    {
     "name": "stdout",
     "output_type": "stream",
     "text": [
      "Mean_absolute_error 0.9862070802884396\n",
      "R score 0.9616458508455313\n"
     ]
    },
    {
     "data": {
      "text/plain": [
       "<matplotlib.collections.PathCollection at 0x25c3700af70>"
      ]
     },
     "execution_count": 83,
     "metadata": {},
     "output_type": "execute_result"
    },
    {
     "data": {
      "image/png": "[encoded data removed]",
      "text/plain": [
       "<Figure size 432x288 with 1 Axes>"
      ]
     },
     "metadata": {
      "needs_background": "light"
     },
     "output_type": "display_data"
    }
   ],
   "source": [
    "from sklearn.linear_model import Ridge\n",
    "from sklearn.metrics import mean_absolute_error\n",
    "from sklearn.metrics import r2_score\n",
    "ridge=Ridge()\n",
    "ridge.fit(X.train_scaled,Y_train)\n",
    "y_pred=ridge.predict(X.test_scaled)\n",
    "mae=mean_absolute_error(Y_test,y_pred)\n",
    "score=r2_score(Y_test,y_pred)\n",
    "print('Mean_absolute_error', mae)\n",
    "print('R score', score)\n",
    "plt.scatter(Y_test,y_pred)"
   ]
  },
  {
   "cell_type": "code",
   "execution_count": 84,
   "id": "7b2f3c97",
   "metadata": {},
   "outputs": [],
   "source": [
    "##elasticnet regression"
   ]
  },
  {
   "cell_type": "code",
   "execution_count": 86,
   "id": "b67747a2",
   "metadata": {},
   "outputs": [
    {
     "name": "stdout",
     "output_type": "stream",
     "text": [
      "Mean_absolute_error 1.6511868133560939\n",
      "R score 0.9081701979826986\n"
     ]
    },
    {
     "data": {
      "text/plain": [
       "<matplotlib.collections.PathCollection at 0x25c3707ea30>"
      ]
     },
     "execution_count": 86,
     "metadata": {},
     "output_type": "execute_result"
    },
    {
     "data": {
      "image/png": "[encoded data removed]",
      "text/plain": [
       "<Figure size 432x288 with 1 Axes>"
      ]
     },
     "metadata": {
      "needs_background": "light"
     },
     "output_type": "display_data"
    }
   ],
   "source": [
    "from sklearn.linear_model import ElasticNet\n",
    "from sklearn.metrics import mean_absolute_error\n",
    "from sklearn.metrics import r2_score\n",
    "elasticnet=ElasticNet()\n",
    "elasticnet.fit(X.train_scaled,Y_train)\n",
    "y_pred=elasticnet.predict(X.test_scaled)\n",
    "mae=mean_absolute_error(Y_test,y_pred)\n",
    "score=r2_score(Y_test,y_pred)\n",
    "print('Mean_absolute_error', mae)\n",
    "print('R score', score)\n",
    "plt.scatter(Y_test,y_pred)"
   ]
  },
  {
   "cell_type": "code",
   "execution_count": 91,
   "id": "f496a205",
   "metadata": {},
   "outputs": [
    {
     "name": "stderr",
     "output_type": "stream",
     "text": [
      "C:\\Users\\pc\\anaconda3\\lib\\site-packages\\sklearn\\linear_model\\_coordinate_descent.py:1571: DataConversionWarning: A column-vector y was passed when a 1d array was expected. Please change the shape of y to (n_samples, ), for example using ravel().\n",
      "  y = column_or_1d(y, warn=True)\n"
     ]
    },
    {
     "data": {
      "text/plain": [
       "LassoCV(cv=5)"
      ]
     },
     "execution_count": 91,
     "metadata": {},
     "output_type": "execute_result"
    }
   ],
   "source": [
    "##cross validation lasso\n",
    "from sklearn.linear_model import LassoCV\n",
    "lassocv=LassoCV(cv=5)\n",
    "lassocv.fit(X.train_scaled,Y_train)\n"
   ]
  },
  {
   "cell_type": "code",
   "execution_count": 93,
   "id": "5ccb9dab",
   "metadata": {},
   "outputs": [
    {
     "data": {
      "text/plain": [
       "array([ 8.86654967,  8.43070902, -0.90302841,  4.68098187,  7.24263344,\n",
       "        1.32021928,  2.11367273,  8.21421082,  1.52734245,  3.22056904,\n",
       "       -0.03995198, 10.37451129, 10.37998213, 19.03334817, 20.44720604,\n",
       "        1.27831956,  1.0595027 , -1.60642915,  7.82928951,  3.04517588,\n",
       "        1.69590846, -0.5307755 ,  7.08824382, -0.54402607, 24.2542425 ,\n",
       "        5.38439947,  6.1122841 , 10.61847675, -1.76028475, 11.13429576,\n",
       "        7.11541298, -0.99084734, 11.32786597, 15.83158382,  1.40129636,\n",
       "        0.39904841,  1.773981  ,  6.21850149, -1.48167507, -1.38799102,\n",
       "        6.73042232,  1.80848785,  9.14655355, -1.82642837, 17.49590209,\n",
       "        9.00686547,  9.11856076,  0.88381183, 14.54700113,  0.69104367,\n",
       "       32.69853037,  5.78355343, 19.75748534, 21.41628847, 15.48410921,\n",
       "       17.30083201,  0.53603436, 10.05123875,  3.94212023, 16.19730883,\n",
       "        5.57420484])"
      ]
     },
     "execution_count": 93,
     "metadata": {},
     "output_type": "execute_result"
    }
   ],
   "source": [
    "lassocv.predict(X.test_scaled)"
   ]
  },
  {
   "cell_type": "code",
   "execution_count": 95,
   "id": "c2004740",
   "metadata": {},
   "outputs": [
    {
     "data": {
      "text/plain": [
       "<matplotlib.collections.PathCollection at 0x25c370c7670>"
      ]
     },
     "execution_count": 95,
     "metadata": {},
     "output_type": "execute_result"
    },
    {
     "data": {
      "image/png": "[encoded data removed]",
      "text/plain": [
       "<Figure size 432x288 with 1 Axes>"
      ]
     },
     "metadata": {
      "needs_background": "light"
     },
     "output_type": "display_data"
    }
   ],
   "source": [
    "y_pred=lassocv.predict(X.test_scaled)\n",
    "plt.scatter(Y_test,y_pred)"
   ]
  },
  {
   "cell_type": "code",
   "execution_count": null,
   "id": "c7cf3fa0",
   "metadata": {},
   "outputs": [],
   "source": []
  }
 ],
 "metadata": {
  "kernelspec": {
   "display_name": "Python 3 (ipykernel)",
   "language": "python",
   "name": "python3"
  },
  "language_info": {
   "codemirror_mode": {
    "name": "ipython",
    "version": 3
   },
   "file_extension": ".py",
   "mimetype": "text/x-python",
   "name": "python",
   "nbconvert_exporter": "python",
   "pygments_lexer": "ipython3",
   "version": "3.9.12"
  }
 },
 "nbformat": 4,
 "nbformat_minor": 5
}
